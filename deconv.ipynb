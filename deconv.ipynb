{
 "cells": [
  {
   "cell_type": "code",
   "execution_count": null,
   "id": "d73c848a-1d17-471a-b96e-e5fb643fc25e",
   "metadata": {
    "scrolled": true
   },
   "outputs": [],
   "source": [
    "from PIL import Image\n",
    "import numpy as np\n",
    "import cv2\n",
    "from scipy.fft import fft2, ifft2\n",
    "from scipy.ndimage import gaussian_filter\n",
    "import matplotlib.pyplot as plt\n",
    "\n",
    "\n",
    "# Load the image\n",
    "image_path = \"geldbabe-cropped.jpeg\"\n",
    "original_image = Image.open(image_path)\n",
    "gray_image = cv2.cvtColor(np.array(original_image), cv2.COLOR_BGR2GRAY)\n",
    "\n",
    "# Create a Gaussian PSF (Point Spread Function)\n",
    "psf_size = 8  # You can adjust this size\n",
    "psf_sigma = 6\n",
    "K = 0.01  # Regularization term, you can adjust this value\n",
    "\n",
    "\n",
    "gaussian_psf = np.zeros((psf_size, psf_size))\n",
    "gaussian_psf[psf_size//2, psf_size//2] = 1\n",
    "gaussian_psf = gaussian_filter(gaussian_psf, sigma=psf_sigma)  # Adjust the sigma value for the blur size\n",
    "gaussian_psf /= gaussian_psf.sum()  # Normalize\n",
    "\n",
    "# Apply FFT to the Gaussian PSF\n",
    "H_gaussian = fft2(gaussian_psf, gray_image.shape)\n",
    "\n",
    "# Apply Wiener deconvolution\n",
    "F_gaussian = np.conj(H_gaussian) / (np.abs(H_gaussian)**2 + K)\n",
    "deconvolved_freq_gaussian = fft2(gray_image) * F_gaussian\n",
    "\n",
    "# Inverse FFT to get the deconvolved image\n",
    "deconvolved_image_gaussian = np.abs(ifft2(deconvolved_freq_gaussian))\n",
    "\n",
    "# Save the deconvolved image\n",
    "output_path = \"out/deconvolved_image.png\"\n",
    "Image.fromarray(np.uint8(deconvolved_image_gaussian)).save(output_path)\n",
    "\n",
    "plt.figure(figsize=(8, 8))\n",
    "plt.title(\"Convoluted Image\")\n",
    "plt.axis('off')\n",
    "plt.imshow(deconvolved_image_gaussian)\n",
    "plt.show()"
   ]
  },
  {
   "cell_type": "code",
   "execution_count": null,
   "id": "e18609ff-d85a-4c3b-80be-1c89bb0b4bfc",
   "metadata": {
    "editable": true,
    "slideshow": {
     "slide_type": ""
    },
    "tags": []
   },
   "outputs": [],
   "source": []
  }
 ],
 "metadata": {
  "kernelspec": {
   "display_name": "Python 3 (ipykernel)",
   "language": "python",
   "name": "python3"
  },
  "language_info": {
   "codemirror_mode": {
    "name": "ipython",
    "version": 3
   },
   "file_extension": ".py",
   "mimetype": "text/x-python",
   "name": "python",
   "nbconvert_exporter": "python",
   "pygments_lexer": "ipython3",
   "version": "3.10.12"
  }
 },
 "nbformat": 4,
 "nbformat_minor": 5
}
